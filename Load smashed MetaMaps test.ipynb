{
 "cells": [
  {
   "cell_type": "code",
   "execution_count": 2,
   "metadata": {},
   "outputs": [
    {
     "name": "stderr",
     "output_type": "stream",
     "text": [
      "C:\\Users\\david\\Anaconda3\\envs\\tensorflow\\lib\\site-packages\\h5py\\__init__.py:36: FutureWarning: Conversion of the second argument of issubdtype from `float` to `np.floating` is deprecated. In future, it will be treated as `np.float64 == np.dtype(float).type`.\n",
      "  from ._conv import register_converters as _register_converters\n",
      "Using TensorFlow backend.\n"
     ]
    }
   ],
   "source": [
    "# %load metamaps.py\n",
    "\"\"\"Provides methods for loading/saving metamaps\"\"\"\n",
    "import struct\n",
    "from enum import IntEnum\n",
    "from keras.utils import Sequence\n",
    "import numpy as np\n",
    "import os\n",
    "import random\n",
    "import numbers\n",
    "\n",
    "METAMAP_FILE_VERSION = 0x100\n",
    "\n",
    "class TileType(IntEnum):\n",
    "    \"\"\"Tile types in a metamap\"\"\"\n",
    "    UNREACHABLE = 0\n",
    "    EMPTY = 1\n",
    "    WALL = 2\n",
    "    PUSHWALL = 3\n",
    "    DOOR = 4\n",
    "\n",
    "class EncodingDim(IntEnum):\n",
    "    \"\"\"Dimensions for the one-hot encoding of a metamap\"\"\"\n",
    "    PLAYABLE = 0\n",
    "    SOLID = 1\n",
    "    PASSAGE = 2\n",
    "\n",
    "TileTypeToEncodingDim = {\n",
    "    TileType.UNREACHABLE: EncodingDim.SOLID,\n",
    "    TileType.EMPTY: EncodingDim.PLAYABLE,\n",
    "    TileType.WALL: EncodingDim.SOLID,\n",
    "    TileType.PUSHWALL: EncodingDim.PASSAGE,\n",
    "    TileType.DOOR: EncodingDim.PASSAGE,\n",
    "    }\n",
    "\n",
    "class MetaMapsSequence(Sequence):\n",
    "    \"\"\"A sequence of real metamaps from a directory and randomly generated ones\"\"\"\n",
    "\n",
    "    def __init__(self, maps_dir, batch_size):\n",
    "        self.maps_dir = maps_dir\n",
    "        self.batch_size = batch_size\n",
    "        self.map_files = os.listdir(maps_dir)\n",
    "        NUM_MAPS = len(self.map_files)\n",
    "        real_maps = [(index, True) for index in range(NUM_MAPS)]\n",
    "        fake_maps = [(index + NUM_MAPS, False) for index in range(NUM_MAPS)]\n",
    "        map_order = real_maps + fake_maps\n",
    "        np.random.shuffle(map_order)\n",
    "        self.map_order = map_order\n",
    "\n",
    "    def __len__(self):\n",
    "        return int(len(self.map_order) / self.batch_size)\n",
    "\n",
    "    def __getitem__(self, idx):\n",
    "        map_batch = np.zeros((self.batch_size, 64, 64, len(EncodingDim)))\n",
    "        label_batch = np.zeros((self.batch_size))\n",
    "\n",
    "        for i in range(self.batch_size):\n",
    "            (index, real_map) = self.map_order[idx * self.batch_size + i]\n",
    "            if real_map:\n",
    "                label_batch[i] = 1\n",
    "                map_batch[i:] = load_metamap(\n",
    "                    os.path.join(self.maps_dir, self.map_files[index]))\n",
    "            else:\n",
    "                map_batch[i:] = generate_random_map()\n",
    "\n",
    "        return map_batch, label_batch\n",
    "\n",
    "\n",
    "def generate_random_map():\n",
    "    \"\"\"Generate a random map\"\"\"\n",
    "    width = 64\n",
    "    height = 64\n",
    "    size = width * height\n",
    "\n",
    "    junk_map = np.zeros([size, len(EncodingDim)])\n",
    "\n",
    "    for i in range(size):\n",
    "        tile_type = random.randint(0, len(EncodingDim) - 1)\n",
    "        junk_map[i, tile_type] = 1\n",
    "\n",
    "    junk_map.shape = (width, height, len(EncodingDim))\n",
    "\n",
    "    return junk_map\n",
    "\n",
    "\n",
    "def load_all_metamaps(dirname, number_cap=None):\n",
    "    \"\"\"Loads all the metamaps in the given directory, returning a giant numpy array\"\"\"\n",
    "    map_names = os.listdir(dirname)\n",
    "    if isinstance(number_cap, numbers.Integral) and number_cap > 0:\n",
    "        map_names = map_names[:number_cap]\n",
    "    all_maps = np.zeros((len(map_names), 64, 64, len(EncodingDim)))\n",
    "\n",
    "    for index, map_name in enumerate(map_names):\n",
    "        load_metamap_into(os.path.join(dirname, map_name), all_maps, index)\n",
    "\n",
    "    return all_maps\n",
    "\n",
    "\n",
    "def load_metamap_into(filename, all_maps, index):\n",
    "    \"\"\"Loads a metamap from a file into a numpy array of shape (width, height, 3)\"\"\"\n",
    "    with open(filename, \"rb\") as fin:\n",
    "        version = struct.unpack('Q', fin.read(8))[0]\n",
    "\n",
    "        if version != METAMAP_FILE_VERSION:\n",
    "            raise ValueError(\"Unsupported metamap version\")\n",
    "\n",
    "        width = struct.unpack('i', fin.read(4))[0]\n",
    "        height = struct.unpack('i', fin.read(4))[0]\n",
    "\n",
    "        raw_map = np.fromfile(fin, dtype=np.uint8)\n",
    "        raw_map.shape = (width, height)\n",
    "\n",
    "        for y in range(height):\n",
    "            for x in range(width):\n",
    "                tile_type = TileType(raw_map[y, x])\n",
    "                all_maps[index, y, x, TileTypeToEncodingDim[tile_type]] = 1\n",
    "\n",
    "\n",
    "def load_metamap(filename):\n",
    "    \"\"\"Loads a metamap from a file into a numpy array of shape (width, height, 3)\"\"\"\n",
    "    with open(filename, \"rb\") as fin:\n",
    "        version = struct.unpack('Q', fin.read(8))[0]\n",
    "\n",
    "        if version != METAMAP_FILE_VERSION:\n",
    "            raise ValueError(\"Unsupported metamap version\")\n",
    "\n",
    "        width = struct.unpack('i', fin.read(4))[0]\n",
    "        height = struct.unpack('i', fin.read(4))[0]\n",
    "        size = width * height\n",
    "\n",
    "        raw_map = np.fromfile(fin, dtype=np.uint8)\n",
    "        one_hot = np.zeros([size, len(EncodingDim)])\n",
    "\n",
    "        for i in range(size):\n",
    "            tile_type = TileType(raw_map[i])\n",
    "            one_hot[i, TileTypeToEncodingDim[tile_type]] = 1\n",
    "\n",
    "        one_hot.shape = (width, height, len(EncodingDim))\n",
    "\n",
    "        return one_hot\n",
    "\n",
    "\n",
    "def save_metamap(metamap, filename):\n",
    "    \"\"\"Saves a metamap to a file\"\"\"\n",
    "    with open(filename, \"wb\") as fout:\n",
    "        fout.write(struct.pack('Q', METAMAP_FILE_VERSION))\n",
    "\n",
    "        width = metamap.shape[0]\n",
    "        height = metamap.shape[1]\n",
    "\n",
    "        fout.write(struct.pack('i', width))\n",
    "        fout.write(struct.pack('i', height))\n",
    "        for y in range(height):\n",
    "            for x in range(width):\n",
    "                tile_type = TileType.WALL\n",
    "                if metamap[y, x, EncodingDim.PLAYABLE] == 1:\n",
    "                    tile_type = TileType.EMPTY\n",
    "                elif metamap[y, x, EncodingDim.SOLID] == 1:\n",
    "                    tile_type = TileType.WALL\n",
    "                elif metamap[y, x, EncodingDim.PASSAGE] == 1:\n",
    "                    tile_type = TileType.DOOR\n",
    "\n",
    "                fout.write(struct.pack('b', tile_type))\n",
    "    return"
   ]
  },
  {
   "cell_type": "code",
   "execution_count": 33,
   "metadata": {},
   "outputs": [],
   "source": [
    "with open(\"MegaMetaMap\", \"rb\") as fin:\n",
    "    mega_meta_map = np.fromfile(fin, dtype=np.uint8)"
   ]
  },
  {
   "cell_type": "code",
   "execution_count": 34,
   "metadata": {},
   "outputs": [
    {
     "data": {
      "text/plain": [
       "(420950016,)"
      ]
     },
     "execution_count": 34,
     "metadata": {},
     "output_type": "execute_result"
    }
   ],
   "source": [
    "mega_meta_map.shape"
   ]
  },
  {
   "cell_type": "code",
   "execution_count": 35,
   "metadata": {},
   "outputs": [],
   "source": [
    "mega_meta_map.shape = (int(mega_meta_map.shape[0]/64/3), 64, 3)"
   ]
  },
  {
   "cell_type": "code",
   "execution_count": 36,
   "metadata": {},
   "outputs": [
    {
     "data": {
      "text/plain": [
       "(2192448, 64, 3)"
      ]
     },
     "execution_count": 36,
     "metadata": {},
     "output_type": "execute_result"
    }
   ],
   "source": [
    "mega_meta_map.shape"
   ]
  },
  {
   "cell_type": "code",
   "execution_count": 38,
   "metadata": {},
   "outputs": [
    {
     "data": {
      "text/plain": [
       "34257"
      ]
     },
     "execution_count": 38,
     "metadata": {},
     "output_type": "execute_result"
    }
   ],
   "source": [
    "int(mega_meta_map.shape[0]/64)"
   ]
  },
  {
   "cell_type": "code",
   "execution_count": 39,
   "metadata": {},
   "outputs": [
    {
     "data": {
      "image/png": "[encoded data removed]",
      "text/plain": [
       "<Figure size 432x288 with 1 Axes>"
      ]
     },
     "metadata": {},
     "output_type": "display_data"
    }
   ],
   "source": [
    "import matplotlib.pyplot as plt\n",
    "\n",
    "plt.imshow(mega_meta_map[:64,:,:].astype('float32'))\n",
    "plt.show()"
   ]
  },
  {
   "cell_type": "code",
   "execution_count": 13,
   "metadata": {},
   "outputs": [
    {
     "data": {
      "text/plain": [
       "1.0"
      ]
     },
     "execution_count": 13,
     "metadata": {},
     "output_type": "execute_result"
    }
   ],
   "source": [
    "figure[0,0,1]"
   ]
  },
  {
   "cell_type": "code",
   "execution_count": 15,
   "metadata": {},
   "outputs": [],
   "source": [
    "mm = load_metamap('metamaps_user\\\\10levels 01 - Wolf1 Map1 m.metamap')"
   ]
  },
  {
   "cell_type": "code",
   "execution_count": 16,
   "metadata": {},
   "outputs": [
    {
     "data": {
      "image/png": "[encoded data removed]",
      "text/plain": [
       "<Figure size 432x288 with 1 Axes>"
      ]
     },
     "metadata": {},
     "output_type": "display_data"
    }
   ],
   "source": [
    "plt.imshow(mm)\n",
    "plt.show()"
   ]
  },
  {
   "cell_type": "code",
   "execution_count": null,
   "metadata": {},
   "outputs": [],
   "source": []
  }
 ],
 "metadata": {
  "kernelspec": {
   "display_name": "Python [conda env:tensorflow]",
   "language": "python",
   "name": "conda-env-tensorflow-py"
  },
  "language_info": {
   "codemirror_mode": {
    "name": "ipython",
    "version": 3
   },
   "file_extension": ".py",
   "mimetype": "text/x-python",
   "name": "python",
   "nbconvert_exporter": "python",
   "pygments_lexer": "ipython3",
   "version": "3.6.4"
  }
 },
 "nbformat": 4,
 "nbformat_minor": 2
}
