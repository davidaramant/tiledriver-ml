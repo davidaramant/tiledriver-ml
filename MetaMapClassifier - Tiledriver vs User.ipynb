{
 "cells": [
  {
   "cell_type": "markdown",
   "metadata": {},
   "source": [
    "# Classify Maps as User or Tiledriver Created"
   ]
  },
  {
   "cell_type": "code",
   "execution_count": 1,
   "metadata": {},
   "outputs": [
    {
     "name": "stderr",
     "output_type": "stream",
     "text": [
      "/home/jupyter-account/anaconda3/lib/python3.6/site-packages/h5py/__init__.py:36: FutureWarning: Conversion of the second argument of issubdtype from `float` to `np.floating` is deprecated. In future, it will be treated as `np.float64 == np.dtype(float).type`.\n",
      "  from ._conv import register_converters as _register_converters\n",
      "Using TensorFlow backend.\n",
      "/home/jupyter-account/anaconda3/lib/python3.6/importlib/_bootstrap.py:219: RuntimeWarning: compiletime version 3.5 of module 'tensorflow.python.framework.fast_tensor_util' does not match runtime version 3.6\n",
      "  return f(*args, **kwds)\n"
     ]
    }
   ],
   "source": [
    "# %load metamaps.py\n",
    "\"\"\"Provides methods for loading/saving metamaps\"\"\"\n",
    "import struct\n",
    "from enum import IntEnum\n",
    "from keras.utils import Sequence\n",
    "import numpy as np\n",
    "import os\n",
    "import random\n",
    "import numbers\n",
    "\n",
    "METAMAP_FILE_VERSION = 0x100\n",
    "\n",
    "class TileType(IntEnum):\n",
    "    \"\"\"Tile types in a metamap\"\"\"\n",
    "    UNREACHABLE = 0\n",
    "    EMPTY = 1\n",
    "    WALL = 2\n",
    "    PUSHWALL = 3\n",
    "    DOOR = 4\n",
    "\n",
    "class EncodingDim(IntEnum):\n",
    "    \"\"\"Dimensions for the one-hot encoding of a metamap\"\"\"\n",
    "    PLAYABLE = 0\n",
    "    SOLID = 1\n",
    "    PASSAGE = 2\n",
    "\n",
    "TileTypeToEncodingDim = {\n",
    "    TileType.UNREACHABLE: EncodingDim.SOLID,\n",
    "    TileType.EMPTY: EncodingDim.PLAYABLE,\n",
    "    TileType.WALL: EncodingDim.SOLID,\n",
    "    TileType.PUSHWALL: EncodingDim.PASSAGE,\n",
    "    TileType.DOOR: EncodingDim.PASSAGE,\n",
    "    }\n",
    "\n",
    "class MetaMapsSequence(Sequence):\n",
    "    \"\"\"A sequence of real metamaps from a directory and randomly generated ones\"\"\"\n",
    "\n",
    "    def __init__(self, maps_dir, batch_size):\n",
    "        self.maps_dir = maps_dir\n",
    "        self.batch_size = batch_size\n",
    "        self.map_files = os.listdir(maps_dir)\n",
    "        NUM_MAPS = len(self.map_files)\n",
    "        real_maps = [(index, True) for index in range(NUM_MAPS)]\n",
    "        fake_maps = [(index + NUM_MAPS, False) for index in range(NUM_MAPS)]\n",
    "        map_order = real_maps + fake_maps\n",
    "        np.random.shuffle(map_order)\n",
    "        self.map_order = map_order\n",
    "\n",
    "    def __len__(self):\n",
    "        return int(len(self.map_order) / self.batch_size)\n",
    "\n",
    "    def __getitem__(self, idx):\n",
    "        map_batch = np.zeros((self.batch_size, 64, 64, len(EncodingDim)))\n",
    "        label_batch = np.zeros((self.batch_size))\n",
    "\n",
    "        for i in range(self.batch_size):\n",
    "            (index, real_map) = self.map_order[idx * self.batch_size + i]\n",
    "            if real_map:\n",
    "                label_batch[i] = 1\n",
    "                map_batch[i:] = load_metamap(\n",
    "                    os.path.join(self.maps_dir, self.map_files[index]))\n",
    "            else:\n",
    "                map_batch[i:] = generate_random_map()\n",
    "\n",
    "        return map_batch, label_batch\n",
    "\n",
    "\n",
    "def generate_random_map():\n",
    "    \"\"\"Generate a random map\"\"\"\n",
    "    width = 64\n",
    "    height = 64\n",
    "    size = width * height\n",
    "\n",
    "    junk_map = np.zeros([size, len(EncodingDim)])\n",
    "\n",
    "    for i in range(size):\n",
    "        tile_type = random.randint(0, len(EncodingDim) - 1)\n",
    "        junk_map[i, tile_type] = 1\n",
    "\n",
    "    junk_map.shape = (width, height, len(EncodingDim))\n",
    "\n",
    "    return junk_map\n",
    "\n",
    "\n",
    "def load_all_metamaps(dirname, number_cap=None):\n",
    "    \"\"\"Loads all the metamaps in the given directory, returning a giant numpy array\"\"\"\n",
    "    map_names = os.listdir(dirname)\n",
    "    if isinstance(number_cap, numbers.Integral) and number_cap > 0:\n",
    "        map_names = map_names[:number_cap]\n",
    "    all_maps = np.zeros((len(map_names), 64, 64, len(EncodingDim)))\n",
    "\n",
    "    for index, map_name in enumerate(map_names):\n",
    "        load_metamap_into(os.path.join(dirname, map_name), all_maps, index)\n",
    "\n",
    "    return all_maps\n",
    "\n",
    "\n",
    "def load_metamap_into(filename, all_maps, index):\n",
    "    \"\"\"Loads a metamap from a file into a numpy array of shape (width, height, 3)\"\"\"\n",
    "    with open(filename, \"rb\") as fin:\n",
    "        version = struct.unpack('Q', fin.read(8))[0]\n",
    "\n",
    "        if version != METAMAP_FILE_VERSION:\n",
    "            raise ValueError(\"Unsupported metamap version\")\n",
    "\n",
    "        width = struct.unpack('i', fin.read(4))[0]\n",
    "        height = struct.unpack('i', fin.read(4))[0]\n",
    "\n",
    "        raw_map = np.fromfile(fin, dtype=np.uint8)\n",
    "        raw_map.shape = (width, height)\n",
    "\n",
    "        for y in range(height):\n",
    "            for x in range(width):\n",
    "                tile_type = TileType(raw_map[y, x])\n",
    "                all_maps[index, y, x, TileTypeToEncodingDim[tile_type]] = 1\n",
    "\n",
    "\n",
    "def load_metamap(filename):\n",
    "    \"\"\"Loads a metamap from a file into a numpy array of shape (width, height, 3)\"\"\"\n",
    "    with open(filename, \"rb\") as fin:\n",
    "        version = struct.unpack('Q', fin.read(8))[0]\n",
    "\n",
    "        if version != METAMAP_FILE_VERSION:\n",
    "            raise ValueError(\"Unsupported metamap version\")\n",
    "\n",
    "        width = struct.unpack('i', fin.read(4))[0]\n",
    "        height = struct.unpack('i', fin.read(4))[0]\n",
    "        size = width * height\n",
    "\n",
    "        raw_map = np.fromfile(fin, dtype=np.uint8)\n",
    "        one_hot = np.zeros([size, len(EncodingDim)])\n",
    "\n",
    "        for i in range(size):\n",
    "            tile_type = TileType(raw_map[i])\n",
    "            one_hot[i, TileTypeToEncodingDim[tile_type]] = 1\n",
    "\n",
    "        one_hot.shape = (width, height, len(EncodingDim))\n",
    "\n",
    "        return one_hot\n",
    "\n",
    "\n",
    "def save_metamap(metamap, filename):\n",
    "    \"\"\"Saves a metamap to a file\"\"\"\n",
    "    with open(filename, \"wb\") as fout:\n",
    "        fout.write(struct.pack('Q', METAMAP_FILE_VERSION))\n",
    "\n",
    "        width = metamap.shape[0]\n",
    "        height = metamap.shape[1]\n",
    "\n",
    "        fout.write(struct.pack('i', width))\n",
    "        fout.write(struct.pack('i', height))\n",
    "        for y in range(height):\n",
    "            for x in range(width):\n",
    "                tile_type = TileType.WALL\n",
    "                if metamap[y, x, EncodingDim.PLAYABLE] == 1:\n",
    "                    tile_type = TileType.EMPTY\n",
    "                elif metamap[y, x, EncodingDim.SOLID] == 1:\n",
    "                    tile_type = TileType.WALL\n",
    "                elif metamap[y, x, EncodingDim.PASSAGE] == 1:\n",
    "                    tile_type = TileType.DOOR\n",
    "\n",
    "                fout.write(struct.pack('b', tile_type))\n",
    "    return"
   ]
  },
  {
   "cell_type": "markdown",
   "metadata": {},
   "source": [
    "# Set Up File Paths"
   ]
  },
  {
   "cell_type": "code",
   "execution_count": 2,
   "metadata": {},
   "outputs": [],
   "source": [
    "import os\n",
    "import shutil\n",
    "import numpy as np"
   ]
  },
  {
   "cell_type": "code",
   "execution_count": 3,
   "metadata": {},
   "outputs": [],
   "source": [
    "user_original_dir = 'metamaps_user'\n",
    "fake_original_dir = 'metamaps_tiledriver'\n",
    "\n",
    "base_dir = 'metamaps_mix'\n",
    "\n",
    "train_dir = os.path.join(base_dir, 'train')\n",
    "validation_dir = os.path.join(base_dir, 'validation')\n",
    "test_dir = os.path.join(base_dir, 'test')\n",
    "\n",
    "user_train_dir = os.path.join(train_dir, 'user')\n",
    "user_validation_dir = os.path.join(validation_dir, 'user')\n",
    "user_test_dir = os.path.join(test_dir, 'user')\n",
    "\n",
    "fake_train_dir = os.path.join(train_dir, 'fake')\n",
    "fake_validation_dir = os.path.join(validation_dir, 'fake')\n",
    "fake_test_dir = os.path.join(test_dir, 'fake')\n",
    "\n",
    "def show_number_of_files_in_dir(dirname):\n",
    "    print(\"Num files in '{}': {}\".format(dirname,len(os.listdir(dirname))))"
   ]
  },
  {
   "cell_type": "code",
   "execution_count": 4,
   "metadata": {},
   "outputs": [
    {
     "name": "stdout",
     "output_type": "stream",
     "text": [
      "Num files in 'metamaps_user': 34257\n",
      "Num files in 'metamaps_tiledriver': 34257\n"
     ]
    }
   ],
   "source": [
    "show_number_of_files_in_dir(user_original_dir)\n",
    "show_number_of_files_in_dir(fake_original_dir)"
   ]
  },
  {
   "cell_type": "markdown",
   "metadata": {},
   "source": [
    "# Reset input directory"
   ]
  },
  {
   "cell_type": "markdown",
   "metadata": {},
   "source": [
    "shutil.rmtree(base_real_dir)\n",
    "shutil.rmtree(base_fake_dir)"
   ]
  },
  {
   "cell_type": "markdown",
   "metadata": {},
   "source": [
    "# Create Input Directory Structure and Copy Maps"
   ]
  },
  {
   "cell_type": "code",
   "execution_count": 5,
   "metadata": {},
   "outputs": [
    {
     "name": "stdout",
     "output_type": "stream",
     "text": [
      "'metamaps_mix' already exists\n",
      "'metamaps_mix/train' already exists\n",
      "'metamaps_mix/validation' already exists\n",
      "'metamaps_mix/test' already exists\n",
      "'metamaps_mix/train/user' already exists\n",
      "'metamaps_mix/validation/user' already exists\n",
      "'metamaps_mix/test/user' already exists\n",
      "'metamaps_mix/train/fake' already exists\n",
      "'metamaps_mix/validation/fake' already exists\n",
      "'metamaps_mix/test/fake' already exists\n"
     ]
    }
   ],
   "source": [
    "def safe_create(dirname):\n",
    "    if not os.path.exists(dirname):\n",
    "        print(\"Creating '{}'\".format(dirname))\n",
    "        os.mkdir(dirname)\n",
    "    else:\n",
    "        print(\"'{}' already exists\".format(dirname))\n",
    "\n",
    "safe_create(base_dir)\n",
    "\n",
    "safe_create(train_dir)\n",
    "safe_create(validation_dir)\n",
    "safe_create(test_dir)\n",
    "\n",
    "safe_create(user_train_dir)\n",
    "safe_create(user_validation_dir)\n",
    "safe_create(user_test_dir)\n",
    "\n",
    "safe_create(fake_train_dir)\n",
    "safe_create(fake_validation_dir)\n",
    "safe_create(fake_test_dir)"
   ]
  },
  {
   "cell_type": "code",
   "execution_count": 6,
   "metadata": {},
   "outputs": [],
   "source": [
    "# Randomize the list of files\n",
    "user_input_files = os.listdir(user_original_dir)\n",
    "np.random.shuffle(user_input_files)\n",
    "\n",
    "fake_input_files = os.listdir(fake_original_dir)\n",
    "np.random.shuffle(fake_input_files)"
   ]
  },
  {
   "cell_type": "code",
   "execution_count": 7,
   "metadata": {},
   "outputs": [],
   "source": [
    "BUCKET_SIZE = 8500\n",
    "\n",
    "def copy_bucket_of_maps(input_files,original_dir,start_bucket,num_buckets,dest_dir):\n",
    "    if len(os.listdir(dest_dir)) == 0:\n",
    "        print(\"Copying {} files into '{}'\".format(num_buckets*BUCKET_SIZE, dest_dir))\n",
    "        start = start_bucket * BUCKET_SIZE\n",
    "        end = (start_bucket + num_buckets) * BUCKET_SIZE\n",
    "        for fname in input_files[start:end]:\n",
    "            src = os.path.join(original_dir, fname)\n",
    "            dst = os.path.join(dest_dir, fname)\n",
    "            shutil.copyfile(src, dst)\n",
    "    else:\n",
    "        print(\"Skipped copying files into '{}'\".format(dest_dir))"
   ]
  },
  {
   "cell_type": "code",
   "execution_count": 8,
   "metadata": {},
   "outputs": [
    {
     "name": "stdout",
     "output_type": "stream",
     "text": [
      "Skipped copying files into 'metamaps_mix/train/user'\n",
      "Skipped copying files into 'metamaps_mix/train/fake'\n",
      "Skipped copying files into 'metamaps_mix/validation/user'\n",
      "Skipped copying files into 'metamaps_mix/validation/fake'\n",
      "Skipped copying files into 'metamaps_mix/test/user'\n",
      "Skipped copying files into 'metamaps_mix/test/fake'\n"
     ]
    }
   ],
   "source": [
    "# Copy two buckets worth of metamaps images to train dir\n",
    "copy_bucket_of_maps(user_input_files,user_original_dir,0,2,user_train_dir)\n",
    "copy_bucket_of_maps(fake_input_files,fake_original_dir,0,2,fake_train_dir)\n",
    "\n",
    "# Copy next bucket of metamaps to validation dir\n",
    "copy_bucket_of_maps(user_input_files,user_original_dir,2,1,user_validation_dir)\n",
    "copy_bucket_of_maps(fake_input_files,fake_original_dir,2,1,fake_validation_dir)\n",
    "\n",
    "# Copy next bucket of metamaps to test dir\n",
    "copy_bucket_of_maps(user_input_files,user_original_dir,3,1,user_test_dir)\n",
    "copy_bucket_of_maps(fake_input_files,fake_original_dir,3,1,fake_test_dir)\n",
    "\n",
    "NUM_REAL_TRAIN_MAPS = 2 * BUCKET_SIZE\n",
    "NUM_REAL_VALIDATION_MAPS = BUCKET_SIZE\n",
    "NUM_REAL_TEST_MAPS = BUCKET_SIZE"
   ]
  },
  {
   "cell_type": "markdown",
   "metadata": {},
   "source": [
    "## Verify number of files in input directories"
   ]
  },
  {
   "cell_type": "markdown",
   "metadata": {},
   "source": [
    "### User Maps"
   ]
  },
  {
   "cell_type": "code",
   "execution_count": 9,
   "metadata": {},
   "outputs": [
    {
     "name": "stdout",
     "output_type": "stream",
     "text": [
      "Num files in 'metamaps_mix/train/user': 17000\n",
      "Num files in 'metamaps_mix/validation/user': 8500\n",
      "Num files in 'metamaps_mix/test/user': 8500\n"
     ]
    }
   ],
   "source": [
    "show_number_of_files_in_dir(user_train_dir)\n",
    "show_number_of_files_in_dir(user_validation_dir)\n",
    "show_number_of_files_in_dir(user_test_dir)"
   ]
  },
  {
   "cell_type": "markdown",
   "metadata": {},
   "source": [
    "### Fake Maps"
   ]
  },
  {
   "cell_type": "code",
   "execution_count": 10,
   "metadata": {},
   "outputs": [
    {
     "name": "stdout",
     "output_type": "stream",
     "text": [
      "Num files in 'metamaps_mix/train/fake': 17000\n",
      "Num files in 'metamaps_mix/validation/fake': 8500\n",
      "Num files in 'metamaps_mix/test/fake': 8500\n"
     ]
    }
   ],
   "source": [
    "show_number_of_files_in_dir(fake_train_dir)\n",
    "show_number_of_files_in_dir(fake_validation_dir)\n",
    "show_number_of_files_in_dir(fake_test_dir)"
   ]
  },
  {
   "cell_type": "markdown",
   "metadata": {},
   "source": [
    "# Load Maps"
   ]
  },
  {
   "cell_type": "code",
   "execution_count": 11,
   "metadata": {},
   "outputs": [],
   "source": [
    "import time\n",
    "import datetime\n",
    "\n",
    "class time_execution:\n",
    "    def __enter__(self):\n",
    "        print(f\"Started loading: {datetime.datetime.time(datetime.datetime.now())}\")\n",
    "        self.t0 = time.perf_counter()\n",
    "        return self\n",
    "        \n",
    "    def __exit__(self, type, value, traceback):\n",
    "        t1 = time.perf_counter()\n",
    "        load_duration = t1 - self.t0\n",
    "        duration_str = time.strftime(\"%H:%M:%S\", time.gmtime(load_duration))\n",
    "        print(f\"Loaded maps in {duration_str}\")"
   ]
  },
  {
   "cell_type": "code",
   "execution_count": 12,
   "metadata": {},
   "outputs": [
    {
     "name": "stdout",
     "output_type": "stream",
     "text": [
      "Started loading: 18:01:45.388933\n",
      "Loaded maps in 00:09:45\n"
     ]
    }
   ],
   "source": [
    "with time_execution():\n",
    "    user_train_maps = load_all_metamaps(user_train_dir)"
   ]
  },
  {
   "cell_type": "code",
   "execution_count": 13,
   "metadata": {},
   "outputs": [
    {
     "name": "stdout",
     "output_type": "stream",
     "text": [
      "Started loading: 18:11:30.841771\n",
      "Loaded maps in 00:09:46\n"
     ]
    }
   ],
   "source": [
    "with time_execution():\n",
    "    fake_train_maps = load_all_metamaps(fake_train_dir)"
   ]
  },
  {
   "cell_type": "code",
   "execution_count": 14,
   "metadata": {},
   "outputs": [
    {
     "name": "stdout",
     "output_type": "stream",
     "text": [
      "Started loading: 18:21:17.685282\n",
      "Loaded maps in 00:04:56\n"
     ]
    }
   ],
   "source": [
    "with time_execution():\n",
    "    user_validation_maps = load_all_metamaps(user_validation_dir)"
   ]
  },
  {
   "cell_type": "code",
   "execution_count": 15,
   "metadata": {},
   "outputs": [
    {
     "name": "stdout",
     "output_type": "stream",
     "text": [
      "Started loading: 18:26:14.427479\n",
      "Loaded maps in 00:04:55\n"
     ]
    }
   ],
   "source": [
    "with time_execution():\n",
    "    fake_validation_maps = load_all_metamaps(fake_validation_dir)"
   ]
  },
  {
   "cell_type": "markdown",
   "metadata": {},
   "source": [
    "## Join training maps, shuffle, and make map + label lists"
   ]
  },
  {
   "cell_type": "code",
   "execution_count": 16,
   "metadata": {},
   "outputs": [],
   "source": [
    "USER_MAPS_LABEL=1\n",
    "FAKE_MAPS_LABEL=0\n",
    "\n",
    "def create_shuffled_maps_and_labels(user_maps, fake_maps):\n",
    "    user_labels = [USER_MAPS_LABEL] * len(user_maps)\n",
    "    fake_labels = [FAKE_MAPS_LABEL] * len(fake_maps)\n",
    "    all_maps = np.concatenate([user_maps, fake_maps])\n",
    "    all_labels = np.concatenate([user_labels, fake_labels])\n",
    "    p = np.random.permutation(len(all_maps))\n",
    "    return all_maps[p], all_labels[p]"
   ]
  },
  {
   "cell_type": "code",
   "execution_count": 17,
   "metadata": {},
   "outputs": [],
   "source": [
    "train_maps, train_labels = create_shuffled_maps_and_labels(user_train_maps, fake_train_maps)"
   ]
  },
  {
   "cell_type": "code",
   "execution_count": 18,
   "metadata": {},
   "outputs": [],
   "source": [
    "validation_maps, validation_labels = create_shuffled_maps_and_labels(user_validation_maps, fake_validation_maps)"
   ]
  },
  {
   "cell_type": "code",
   "execution_count": 19,
   "metadata": {},
   "outputs": [
    {
     "data": {
      "text/plain": [
       "array([0, 1, 0, ..., 0, 0, 0])"
      ]
     },
     "execution_count": 19,
     "metadata": {},
     "output_type": "execute_result"
    }
   ],
   "source": [
    "train_labels"
   ]
  },
  {
   "cell_type": "markdown",
   "metadata": {},
   "source": [
    "# Create model and add layers"
   ]
  },
  {
   "cell_type": "code",
   "execution_count": 27,
   "metadata": {},
   "outputs": [],
   "source": [
    "from keras import layers\n",
    "from keras import models\n",
    "\n",
    "model = models.Sequential()\n",
    "model.add(layers.SeparableConv2D(32, (3, 3), activation='relu', padding='same',\n",
    "                        input_shape=(64, 64, len(EncodingDim))))\n",
    "model.add(layers.MaxPooling2D((2, 2)))\n",
    "model.add(layers.SeparableConv2D(64, (3, 3), activation='relu', padding='same'))\n",
    "model.add(layers.MaxPooling2D((2, 2)))\n",
    "model.add(layers.SeparableConv2D(128, (3, 3), activation='relu', padding='same'))\n",
    "model.add(layers.MaxPooling2D((2, 2)))\n",
    "model.add(layers.Flatten())\n",
    "model.add(layers.Dense(512, activation='relu'))\n",
    "model.add(layers.Dense(1, activation='sigmoid'))"
   ]
  },
  {
   "cell_type": "code",
   "execution_count": 28,
   "metadata": {},
   "outputs": [
    {
     "name": "stdout",
     "output_type": "stream",
     "text": [
      "_________________________________________________________________\n",
      "Layer (type)                 Output Shape              Param #   \n",
      "=================================================================\n",
      "separable_conv2d_4 (Separabl (None, 64, 64, 32)        155       \n",
      "_________________________________________________________________\n",
      "max_pooling2d_4 (MaxPooling2 (None, 32, 32, 32)        0         \n",
      "_________________________________________________________________\n",
      "separable_conv2d_5 (Separabl (None, 32, 32, 64)        2400      \n",
      "_________________________________________________________________\n",
      "max_pooling2d_5 (MaxPooling2 (None, 16, 16, 64)        0         \n",
      "_________________________________________________________________\n",
      "separable_conv2d_6 (Separabl (None, 16, 16, 128)       8896      \n",
      "_________________________________________________________________\n",
      "max_pooling2d_6 (MaxPooling2 (None, 8, 8, 128)         0         \n",
      "_________________________________________________________________\n",
      "flatten_2 (Flatten)          (None, 8192)              0         \n",
      "_________________________________________________________________\n",
      "dense_3 (Dense)              (None, 512)               4194816   \n",
      "_________________________________________________________________\n",
      "dense_4 (Dense)              (None, 1)                 513       \n",
      "=================================================================\n",
      "Total params: 4,206,780\n",
      "Trainable params: 4,206,780\n",
      "Non-trainable params: 0\n",
      "_________________________________________________________________\n"
     ]
    }
   ],
   "source": [
    "model.summary()"
   ]
  },
  {
   "cell_type": "code",
   "execution_count": 29,
   "metadata": {},
   "outputs": [],
   "source": [
    "from keras import optimizers\n",
    "\n",
    "model.compile(loss='binary_crossentropy',\n",
    "              optimizer=optimizers.RMSprop(lr=1e-4),\n",
    "              metrics=['acc'])"
   ]
  },
  {
   "cell_type": "code",
   "execution_count": 30,
   "metadata": {},
   "outputs": [
    {
     "name": "stdout",
     "output_type": "stream",
     "text": [
      "Train on 34000 samples, validate on 17000 samples\n",
      "Epoch 1/15\n",
      "34000/34000 [==============================] - 28s 825us/step - loss: 0.3396 - acc: 0.8506 - val_loss: 0.2037 - val_acc: 0.9123\n",
      "Epoch 2/15\n",
      "34000/34000 [==============================] - 28s 814us/step - loss: 0.1165 - acc: 0.9606 - val_loss: 0.0727 - val_acc: 0.9798\n",
      "Epoch 3/15\n",
      "34000/34000 [==============================] - 28s 814us/step - loss: 0.0657 - acc: 0.9785 - val_loss: 0.0504 - val_acc: 0.9840\n",
      "Epoch 4/15\n",
      "34000/34000 [==============================] - 28s 814us/step - loss: 0.0479 - acc: 0.9837 - val_loss: 0.0536 - val_acc: 0.9815\n",
      "Epoch 5/15\n",
      "34000/34000 [==============================] - 28s 814us/step - loss: 0.0372 - acc: 0.9872 - val_loss: 0.0262 - val_acc: 0.9913\n",
      "Epoch 6/15\n",
      "34000/34000 [==============================] - 28s 814us/step - loss: 0.0298 - acc: 0.9904 - val_loss: 0.0242 - val_acc: 0.9921\n",
      "Epoch 7/15\n",
      "34000/34000 [==============================] - 28s 814us/step - loss: 0.0253 - acc: 0.9914 - val_loss: 0.0214 - val_acc: 0.9931\n",
      "Epoch 8/15\n",
      "34000/34000 [==============================] - 28s 813us/step - loss: 0.0217 - acc: 0.9926 - val_loss: 0.0197 - val_acc: 0.9939\n",
      "Epoch 9/15\n",
      "34000/34000 [==============================] - 28s 814us/step - loss: 0.0196 - acc: 0.9939 - val_loss: 0.0279 - val_acc: 0.9918\n",
      "Epoch 10/15\n",
      "34000/34000 [==============================] - 28s 814us/step - loss: 0.0186 - acc: 0.9936 - val_loss: 0.0261 - val_acc: 0.9924\n",
      "Epoch 11/15\n",
      "34000/34000 [==============================] - 28s 813us/step - loss: 0.0170 - acc: 0.9944 - val_loss: 0.0259 - val_acc: 0.9927\n",
      "Epoch 12/15\n",
      "34000/34000 [==============================] - 28s 812us/step - loss: 0.0148 - acc: 0.9949 - val_loss: 0.0235 - val_acc: 0.9918\n",
      "Epoch 13/15\n",
      "34000/34000 [==============================] - 28s 812us/step - loss: 0.0152 - acc: 0.9952 - val_loss: 0.1850 - val_acc: 0.9341\n",
      "Epoch 14/15\n",
      "34000/34000 [==============================] - 28s 813us/step - loss: 0.0145 - acc: 0.9951 - val_loss: 0.0117 - val_acc: 0.9966\n",
      "Epoch 15/15\n",
      "34000/34000 [==============================] - 28s 813us/step - loss: 0.0141 - acc: 0.9960 - val_loss: 0.0321 - val_acc: 0.9924\n"
     ]
    }
   ],
   "source": [
    "history = model.fit(\n",
    "    x=train_maps,\n",
    "    y=train_labels,\n",
    "    batch_size=20,\n",
    "    epochs=15,\n",
    "    validation_data=(validation_maps, validation_labels)) "
   ]
  },
  {
   "cell_type": "code",
   "execution_count": 31,
   "metadata": {},
   "outputs": [],
   "source": [
    "model.save('user_vs_tiledriver_metamaps.h5')"
   ]
  },
  {
   "cell_type": "code",
   "execution_count": 32,
   "metadata": {},
   "outputs": [
    {
     "data": {
      "image/png": "[encoded data removed]",
      "text/plain": [
       "<matplotlib.figure.Figure at 0x7f6b46243748>"
      ]
     },
     "metadata": {},
     "output_type": "display_data"
    },
    {
     "data": {
      "image/png": "[encoded data removed]",
      "text/plain": [
       "<matplotlib.figure.Figure at 0x7f6b4632a128>"
      ]
     },
     "metadata": {},
     "output_type": "display_data"
    }
   ],
   "source": [
    "import matplotlib.pyplot as plt\n",
    "\n",
    "acc = history.history['acc']\n",
    "val_acc = history.history['val_acc']\n",
    "loss = history.history['loss']\n",
    "val_loss = history.history['val_loss']\n",
    "\n",
    "epochs = range(len(acc))\n",
    "\n",
    "plt.plot(epochs, acc, 'bo', label='Training acc')\n",
    "plt.plot(epochs, val_acc, 'b', label='Validation acc')\n",
    "plt.title('Training and validation accuracy')\n",
    "plt.legend()\n",
    "\n",
    "plt.figure()\n",
    "\n",
    "plt.plot(epochs, loss, 'bo', label='Training loss')\n",
    "plt.plot(epochs, val_loss, 'b', label='Validation loss')\n",
    "plt.title('Training and validation loss')\n",
    "plt.legend()\n",
    "\n",
    "plt.show()"
   ]
  },
  {
   "cell_type": "code",
   "execution_count": null,
   "metadata": {},
   "outputs": [],
   "source": []
  }
 ],
 "metadata": {
  "kernelspec": {
   "display_name": "Python [conda env:anaconda3]",
   "language": "python",
   "name": "conda-env-anaconda3-py"
  },
  "language_info": {
   "codemirror_mode": {
    "name": "ipython",
    "version": 3
   },
   "file_extension": ".py",
   "mimetype": "text/x-python",
   "name": "python",
   "nbconvert_exporter": "python",
   "pygments_lexer": "ipython3",
   "version": "3.6.4"
  }
 },
 "nbformat": 4,
 "nbformat_minor": 2
}
