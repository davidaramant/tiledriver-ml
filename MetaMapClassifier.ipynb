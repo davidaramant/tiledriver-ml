{
 "cells": [
  {
   "cell_type": "code",
   "execution_count": 11,
   "metadata": {},
   "outputs": [],
   "source": [
    "import os\n",
    "import shutil\n",
    "import numpy as np\n",
    "import metamaps"
   ]
  },
  {
   "cell_type": "code",
   "execution_count": 2,
   "metadata": {},
   "outputs": [],
   "source": [
    "# The path to the directory where the original\n",
    "# dataset was uncompressed\n",
    "original_dataset_dir = 'metamaps'\n",
    "\n",
    "# The directory where we will\n",
    "# store our smaller dataset\n",
    "base_dir = 'metamaps_input'\n",
    "\n",
    "# Directories for our training,\n",
    "# validation and test splits\n",
    "train_dir = os.path.join(base_dir, 'train')\n",
    "validation_dir = os.path.join(base_dir, 'validation')\n",
    "test_dir = os.path.join(base_dir, 'test')\n",
    "\n",
    "def show_number_of_files_in_dir(dirname):\n",
    "    print(\"Num files in '{}': {}\".format(dirname,len(os.listdir(dirname))))"
   ]
  },
  {
   "cell_type": "code",
   "execution_count": 3,
   "metadata": {},
   "outputs": [
    {
     "name": "stdout",
     "output_type": "stream",
     "text": [
      "Num files in 'metamaps': 34257\n"
     ]
    }
   ],
   "source": [
    "show_number_of_files_in_dir(original_dataset_dir)"
   ]
  },
  {
   "cell_type": "markdown",
   "metadata": {},
   "source": [
    "# Reset input directory\n",
    "shutil.rmtree(base_dir)"
   ]
  },
  {
   "cell_type": "code",
   "execution_count": 6,
   "metadata": {},
   "outputs": [
    {
     "name": "stdout",
     "output_type": "stream",
     "text": [
      "Creating metamaps_input\n",
      "Creating metamaps_input\\train\n",
      "Creating metamaps_input\\validation\n",
      "Creating metamaps_input\\test\n"
     ]
    }
   ],
   "source": [
    "def safe_create(dirname):\n",
    "    if not os.path.exists(dirname):\n",
    "        print(\"Creating '{}'\".format(dirname))\n",
    "        os.mkdir(dirname)\n",
    "    else:\n",
    "        print(\"'{}' already exists\".format(dirname))\n",
    "\n",
    "safe_create(base_dir)\n",
    "safe_create(train_dir)\n",
    "safe_create(validation_dir)\n",
    "safe_create(test_dir)"
   ]
  },
  {
   "cell_type": "code",
   "execution_count": 9,
   "metadata": {},
   "outputs": [
    {
     "name": "stdout",
     "output_type": "stream",
     "text": [
      "Copying files into 'metamaps_input\\train'\n",
      "Copying files into 'metamaps_input\\validation'\n",
      "Copying files into 'metamaps_input\\test'\n"
     ]
    }
   ],
   "source": [
    "# Randomize the list of files\n",
    "input_files = os.listdir(original_dataset_dir)\n",
    "np.random.shuffle(input_files)\n",
    "\n",
    "bucket_size = 8500\n",
    "\n",
    "def copy_bucket_of_maps(start_bucket,num_buckets,dest_dir):\n",
    "    if len(os.listdir(dest_dir)) == 0:\n",
    "        print(\"Copying {} files into '{}'\".format(num_buckets*bucket_size, dest_dir))\n",
    "        start = start_bucket * bucket_size\n",
    "        end = (start_bucket + num_buckets) * bucket_size\n",
    "        for fname in input_files[start:end]:\n",
    "            src = os.path.join(original_dataset_dir, fname)\n",
    "            dst = os.path.join(dest_dir, fname)\n",
    "            shutil.copyfile(src, dst)\n",
    "    else:\n",
    "        print(\"Skipped copying files into '{}'\".format(dest_dir))\n",
    "\n",
    "# Copy two buckets worth of metamaps images to train_dir\n",
    "copy_bucket_of_maps(0,2,train_dir)\n",
    "\n",
    "# Copy next bucket of metamaps to validation_cats_dir\n",
    "copy_bucket_of_maps(2,1,validation_dir)\n",
    "    \n",
    "# Copy next bucket of metamaps to test_cats_dir\n",
    "copy_bucket_of_maps(3,1,test_dir)"
   ]
  },
  {
   "cell_type": "code",
   "execution_count": 10,
   "metadata": {},
   "outputs": [
    {
     "name": "stdout",
     "output_type": "stream",
     "text": [
      "Num files in 'metamaps_input\\train': 17000\n",
      "Num files in 'metamaps_input\\validation': 8500\n",
      "Num files in 'metamaps_input\\test': 8500\n"
     ]
    }
   ],
   "source": [
    "# Verify number of files in input directories\n",
    "show_number_of_files_in_dir(train_dir)\n",
    "show_number_of_files_in_dir(validation_dir)\n",
    "show_number_of_files_in_dir(test_dir)"
   ]
  },
  {
   "cell_type": "code",
   "execution_count": null,
   "metadata": {},
   "outputs": [],
   "source": []
  }
 ],
 "metadata": {
  "kernelspec": {
   "display_name": "Python 3",
   "language": "python",
   "name": "python3"
  },
  "language_info": {
   "codemirror_mode": {
    "name": "ipython",
    "version": 3
   },
   "file_extension": ".py",
   "mimetype": "text/x-python",
   "name": "python",
   "nbconvert_exporter": "python",
   "pygments_lexer": "ipython3",
   "version": "3.6.4"
  }
 },
 "nbformat": 4,
 "nbformat_minor": 2
}
