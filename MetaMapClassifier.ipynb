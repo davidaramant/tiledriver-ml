{
 "cells": [
  {
   "cell_type": "code",
   "execution_count": 1,
   "metadata": {},
   "outputs": [
    {
     "name": "stderr",
     "output_type": "stream",
     "text": [
      "/home/jupyter-account/anaconda3/lib/python3.6/site-packages/h5py/__init__.py:36: FutureWarning: Conversion of the second argument of issubdtype from `float` to `np.floating` is deprecated. In future, it will be treated as `np.float64 == np.dtype(float).type`.\n",
      "  from ._conv import register_converters as _register_converters\n",
      "Using TensorFlow backend.\n",
      "/home/jupyter-account/anaconda3/lib/python3.6/importlib/_bootstrap.py:219: RuntimeWarning: compiletime version 3.5 of module 'tensorflow.python.framework.fast_tensor_util' does not match runtime version 3.6\n",
      "  return f(*args, **kwds)\n"
     ]
    }
   ],
   "source": [
    "import os\n",
    "import shutil\n",
    "import numpy as np\n",
    "import metamaps"
   ]
  },
  {
   "cell_type": "code",
   "execution_count": 2,
   "metadata": {},
   "outputs": [],
   "source": [
    "# The path to the directory where the original\n",
    "# dataset was uncompressed\n",
    "original_dataset_dir = 'metamaps'\n",
    "\n",
    "# The directory where we will\n",
    "# store our smaller dataset\n",
    "base_dir = 'metamaps_input'\n",
    "\n",
    "# Directories for our training,\n",
    "# validation and test splits\n",
    "train_dir = os.path.join(base_dir, 'train')\n",
    "validation_dir = os.path.join(base_dir, 'validation')\n",
    "test_dir = os.path.join(base_dir, 'test')\n",
    "\n",
    "def show_number_of_files_in_dir(dirname):\n",
    "    print(\"Num files in '{}': {}\".format(dirname,len(os.listdir(dirname))))"
   ]
  },
  {
   "cell_type": "code",
   "execution_count": 3,
   "metadata": {},
   "outputs": [
    {
     "name": "stdout",
     "output_type": "stream",
     "text": [
      "Num files in 'metamaps': 34257\n"
     ]
    }
   ],
   "source": [
    "show_number_of_files_in_dir(original_dataset_dir)"
   ]
  },
  {
   "cell_type": "markdown",
   "metadata": {},
   "source": [
    "# Reset input directory\n",
    "shutil.rmtree(base_dir)"
   ]
  },
  {
   "cell_type": "code",
   "execution_count": 4,
   "metadata": {},
   "outputs": [
    {
     "name": "stdout",
     "output_type": "stream",
     "text": [
      "'metamaps_input' already exists\n",
      "'metamaps_input/train' already exists\n",
      "'metamaps_input/validation' already exists\n",
      "'metamaps_input/test' already exists\n"
     ]
    }
   ],
   "source": [
    "def safe_create(dirname):\n",
    "    if not os.path.exists(dirname):\n",
    "        print(\"Creating '{}'\".format(dirname))\n",
    "        os.mkdir(dirname)\n",
    "    else:\n",
    "        print(\"'{}' already exists\".format(dirname))\n",
    "\n",
    "safe_create(base_dir)\n",
    "safe_create(train_dir)\n",
    "safe_create(validation_dir)\n",
    "safe_create(test_dir)"
   ]
  },
  {
   "cell_type": "code",
   "execution_count": 5,
   "metadata": {},
   "outputs": [
    {
     "name": "stdout",
     "output_type": "stream",
     "text": [
      "Skipped copying files into 'metamaps_input/train'\n",
      "Skipped copying files into 'metamaps_input/validation'\n",
      "Skipped copying files into 'metamaps_input/test'\n"
     ]
    }
   ],
   "source": [
    "# Randomize the list of files\n",
    "input_files = os.listdir(original_dataset_dir)\n",
    "np.random.shuffle(input_files)\n",
    "\n",
    "BUCKET_SIZE = 8500\n",
    "\n",
    "def copy_bucket_of_maps(start_bucket,num_buckets,dest_dir):\n",
    "    if len(os.listdir(dest_dir)) == 0:\n",
    "        print(\"Copying {} files into '{}'\".format(num_buckets*BUCKET_SIZE, dest_dir))\n",
    "        start = start_bucket * BUCKET_SIZE\n",
    "        end = (start_bucket + num_buckets) * BUCKET_SIZE\n",
    "        for fname in input_files[start:end]:\n",
    "            src = os.path.join(original_dataset_dir, fname)\n",
    "            dst = os.path.join(dest_dir, fname)\n",
    "            shutil.copyfile(src, dst)\n",
    "    else:\n",
    "        print(\"Skipped copying files into '{}'\".format(dest_dir))\n",
    "\n",
    "# Copy two buckets worth of metamaps images to train_dir\n",
    "copy_bucket_of_maps(0,2,train_dir)\n",
    "\n",
    "# Copy next bucket of metamaps to validation_cats_dir\n",
    "copy_bucket_of_maps(2,1,validation_dir)\n",
    "    \n",
    "# Copy next bucket of metamaps to test_cats_dir\n",
    "copy_bucket_of_maps(3,1,test_dir)\n",
    "\n",
    "NUM_REAL_TRAIN_MAPS = 2 * BUCKET_SIZE\n",
    "NUM_REAL_VALIDATION_MAPS = BUCKET_SIZE\n",
    "NUM_REAL_TEST_MAPS = BUCKET_SIZE"
   ]
  },
  {
   "cell_type": "code",
   "execution_count": 6,
   "metadata": {},
   "outputs": [
    {
     "name": "stdout",
     "output_type": "stream",
     "text": [
      "Num files in 'metamaps_input/train': 17000\n",
      "Num files in 'metamaps_input/validation': 8500\n",
      "Num files in 'metamaps_input/test': 8500\n"
     ]
    }
   ],
   "source": [
    "# Verify number of files in input directories\n",
    "show_number_of_files_in_dir(train_dir)\n",
    "show_number_of_files_in_dir(validation_dir)\n",
    "show_number_of_files_in_dir(test_dir)"
   ]
  },
  {
   "cell_type": "code",
   "execution_count": 7,
   "metadata": {},
   "outputs": [],
   "source": [
    "#Create model and add layers\n",
    "from keras import layers\n",
    "from keras import models\n",
    "\n",
    "model = models.Sequential()\n",
    "model.add(layers.Conv2D(32, (3, 3), activation='relu',\n",
    "                        input_shape=(64, 64, len(metamaps.EncodingDim))))\n",
    "model.add(layers.MaxPooling2D((2, 2)))\n",
    "model.add(layers.Conv2D(64, (3, 3), activation='relu'))\n",
    "model.add(layers.MaxPooling2D((2, 2)))\n",
    "model.add(layers.Conv2D(128, (3, 3), activation='relu'))\n",
    "model.add(layers.MaxPooling2D((2, 2)))\n",
    "model.add(layers.Flatten())\n",
    "model.add(layers.Dense(512, activation='relu'))\n",
    "model.add(layers.Dense(1, activation='sigmoid'))"
   ]
  },
  {
   "cell_type": "code",
   "execution_count": 8,
   "metadata": {},
   "outputs": [
    {
     "name": "stdout",
     "output_type": "stream",
     "text": [
      "_________________________________________________________________\n",
      "Layer (type)                 Output Shape              Param #   \n",
      "=================================================================\n",
      "conv2d_1 (Conv2D)            (None, 62, 62, 32)        896       \n",
      "_________________________________________________________________\n",
      "max_pooling2d_1 (MaxPooling2 (None, 31, 31, 32)        0         \n",
      "_________________________________________________________________\n",
      "conv2d_2 (Conv2D)            (None, 29, 29, 64)        18496     \n",
      "_________________________________________________________________\n",
      "max_pooling2d_2 (MaxPooling2 (None, 14, 14, 64)        0         \n",
      "_________________________________________________________________\n",
      "conv2d_3 (Conv2D)            (None, 12, 12, 128)       73856     \n",
      "_________________________________________________________________\n",
      "max_pooling2d_3 (MaxPooling2 (None, 6, 6, 128)         0         \n",
      "_________________________________________________________________\n",
      "flatten_1 (Flatten)          (None, 4608)              0         \n",
      "_________________________________________________________________\n",
      "dense_1 (Dense)              (None, 512)               2359808   \n",
      "_________________________________________________________________\n",
      "dense_2 (Dense)              (None, 1)                 513       \n",
      "=================================================================\n",
      "Total params: 2,453,569\n",
      "Trainable params: 2,453,569\n",
      "Non-trainable params: 0\n",
      "_________________________________________________________________\n"
     ]
    }
   ],
   "source": [
    "model.summary()"
   ]
  },
  {
   "cell_type": "code",
   "execution_count": 9,
   "metadata": {},
   "outputs": [],
   "source": [
    "from keras import optimizers\n",
    "\n",
    "model.compile(loss='binary_crossentropy',\n",
    "              optimizer=optimizers.RMSprop(lr=1e-4),\n",
    "              metrics=['acc'])"
   ]
  },
  {
   "cell_type": "code",
   "execution_count": 10,
   "metadata": {},
   "outputs": [
    {
     "name": "stdout",
     "output_type": "stream",
     "text": [
      "Training steps: 1700\n",
      "Validation steps: 850\n"
     ]
    }
   ],
   "source": [
    "BATCH_SIZE = 20\n",
    "\n",
    "TRAINING_STEPS = int((NUM_REAL_TRAIN_MAPS * 2) / BATCH_SIZE)\n",
    "VALIDATION_STEPS = int((NUM_REAL_VALIDATION_MAPS * 2) / BATCH_SIZE)\n",
    "\n",
    "print(\"Training steps: {}\".format(TRAINING_STEPS))\n",
    "print(\"Validation steps: {}\".format(VALIDATION_STEPS))"
   ]
  },
  {
   "cell_type": "code",
   "execution_count": 11,
   "metadata": {},
   "outputs": [],
   "source": [
    "train_sequence = metamaps.MetaMapsSequence(train_dir,BATCH_SIZE)\n",
    "validation_sequence = metamaps.MetaMapsSequence(validation_dir,BATCH_SIZE)"
   ]
  },
  {
   "cell_type": "code",
   "execution_count": 12,
   "metadata": {},
   "outputs": [
    {
     "name": "stdout",
     "output_type": "stream",
     "text": [
      "Epoch 1/1\n",
      "1700/1700 [==============================] - 1325s 780ms/step - loss: 0.0048 - acc: 0.9981 - val_loss: 1.1329e-07 - val_acc: 1.0000\n"
     ]
    }
   ],
   "source": [
    "history = model.fit_generator(\n",
    "      train_sequence,\n",
    "      steps_per_epoch=TRAINING_STEPS, # number of batches to train with\n",
    "      epochs=1, # this will get tweaked by looking at the overfitting curves\n",
    "      validation_data=validation_sequence,\n",
    "      validation_steps=VALIDATION_STEPS) # number of batches to validate with"
   ]
  },
  {
   "cell_type": "code",
   "execution_count": 13,
   "metadata": {},
   "outputs": [],
   "source": [
    "model.save('real_vs_fake_metamaps.h5')"
   ]
  },
  {
   "cell_type": "code",
   "execution_count": 15,
   "metadata": {},
   "outputs": [
    {
     "data": {
      "image/png": "[encoded data removed]",
      "text/plain": [
       "<matplotlib.figure.Figure at 0x7f55da18fb38>"
      ]
     },
     "metadata": {},
     "output_type": "display_data"
    },
    {
     "data": {
      "image/png": "[encoded data removed]",
      "text/plain": [
       "<matplotlib.figure.Figure at 0x7f55d950d2e8>"
      ]
     },
     "metadata": {},
     "output_type": "display_data"
    }
   ],
   "source": [
    "import matplotlib.pyplot as plt\n",
    "\n",
    "acc = history.history['acc']\n",
    "val_acc = history.history['val_acc']\n",
    "loss = history.history['loss']\n",
    "val_loss = history.history['val_loss']\n",
    "\n",
    "epochs = range(len(acc))\n",
    "\n",
    "plt.plot(epochs, acc, 'bo', label='Training acc')\n",
    "plt.plot(epochs, val_acc, 'b', label='Validation acc')\n",
    "plt.title('Training and validation accuracy')\n",
    "plt.legend()\n",
    "\n",
    "plt.figure()\n",
    "\n",
    "plt.plot(epochs, loss, 'bo', label='Training loss')\n",
    "plt.plot(epochs, val_loss, 'b', label='Validation loss')\n",
    "plt.title('Training and validation loss')\n",
    "plt.legend()\n",
    "\n",
    "plt.show()"
   ]
  },
  {
   "cell_type": "code",
   "execution_count": null,
   "metadata": {},
   "outputs": [],
   "source": []
  }
 ],
 "metadata": {
  "kernelspec": {
   "display_name": "Python [conda root]",
   "language": "python",
   "name": "conda-root-py"
  },
  "language_info": {
   "codemirror_mode": {
    "name": "ipython",
    "version": 3
   },
   "file_extension": ".py",
   "mimetype": "text/x-python",
   "name": "python",
   "nbconvert_exporter": "python",
   "pygments_lexer": "ipython3",
   "version": "3.6.4"
  }
 },
 "nbformat": 4,
 "nbformat_minor": 2
}
